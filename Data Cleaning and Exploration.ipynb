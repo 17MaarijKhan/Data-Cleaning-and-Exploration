{
 "cells": [
  {
   "cell_type": "markdown",
   "id": "27ffe83b-2504-48e9-8e06-c68b0468ed22",
   "metadata": {},
   "source": [
    "# Data Loading"
   ]
  },
  {
   "cell_type": "code",
   "execution_count": null,
   "id": "3a0e2c1e-c0aa-4890-8202-d792374d36a2",
   "metadata": {},
   "outputs": [],
   "source": [
    "#import library"
   ]
  },
  {
   "cell_type": "code",
   "execution_count": 2,
   "id": "fd59944f-f0d6-41a5-b938-a17867e5b67b",
   "metadata": {},
   "outputs": [],
   "source": [
    "import pandas as pd\n",
    "import string\n",
    "import matplotlib.pyplot as plt"
   ]
  },
  {
   "cell_type": "code",
   "execution_count": null,
   "id": "17b918e1-4b54-4e65-8925-5913335e0c38",
   "metadata": {},
   "outputs": [],
   "source": [
    "#Data Loading"
   ]
  },
  {
   "cell_type": "code",
   "execution_count": 3,
   "id": "5dcdbb31-0c45-4cc9-a95a-163578ebd536",
   "metadata": {},
   "outputs": [],
   "source": [
    "df = pd.read_csv(r'C:\\Users\\maari\\OneDrive\\Desktop\\Data Cleaning and Exploration\\sample_customer_feedback.csv')"
   ]
  },
  {
   "cell_type": "code",
   "execution_count": 4,
   "id": "361b561f-1c96-4628-8029-13ee63c8df2e",
   "metadata": {},
   "outputs": [
    {
     "data": {
      "text/html": [
       "<div>\n",
       "<style scoped>\n",
       "    .dataframe tbody tr th:only-of-type {\n",
       "        vertical-align: middle;\n",
       "    }\n",
       "\n",
       "    .dataframe tbody tr th {\n",
       "        vertical-align: top;\n",
       "    }\n",
       "\n",
       "    .dataframe thead th {\n",
       "        text-align: right;\n",
       "    }\n",
       "</style>\n",
       "<table border=\"1\" class=\"dataframe\">\n",
       "  <thead>\n",
       "    <tr style=\"text-align: right;\">\n",
       "      <th></th>\n",
       "      <th>Customer_ID</th>\n",
       "      <th>Feedback_Date</th>\n",
       "      <th>Product_ID</th>\n",
       "      <th>Rating</th>\n",
       "      <th>Comments</th>\n",
       "    </tr>\n",
       "  </thead>\n",
       "  <tbody>\n",
       "    <tr>\n",
       "      <th>0</th>\n",
       "      <td>1</td>\n",
       "      <td>2/16/2018</td>\n",
       "      <td>P001</td>\n",
       "      <td>1</td>\n",
       "      <td>Like start nearly grow add film.</td>\n",
       "    </tr>\n",
       "    <tr>\n",
       "      <th>1</th>\n",
       "      <td>2</td>\n",
       "      <td>4/13/2018</td>\n",
       "      <td>P002</td>\n",
       "      <td>4</td>\n",
       "      <td>Whom still case door certain century mean abil...</td>\n",
       "    </tr>\n",
       "    <tr>\n",
       "      <th>2</th>\n",
       "      <td>3</td>\n",
       "      <td>2/2/2018</td>\n",
       "      <td>P003</td>\n",
       "      <td>1</td>\n",
       "      <td>Follow new special beat address.</td>\n",
       "    </tr>\n",
       "    <tr>\n",
       "      <th>3</th>\n",
       "      <td>4</td>\n",
       "      <td>4/8/2018</td>\n",
       "      <td>P004</td>\n",
       "      <td>5</td>\n",
       "      <td>Development strong lose send certain say health.</td>\n",
       "    </tr>\n",
       "    <tr>\n",
       "      <th>4</th>\n",
       "      <td>5</td>\n",
       "      <td>2/22/2018</td>\n",
       "      <td>P005</td>\n",
       "      <td>3</td>\n",
       "      <td>Seem response quickly budget.</td>\n",
       "    </tr>\n",
       "    <tr>\n",
       "      <th>...</th>\n",
       "      <td>...</td>\n",
       "      <td>...</td>\n",
       "      <td>...</td>\n",
       "      <td>...</td>\n",
       "      <td>...</td>\n",
       "    </tr>\n",
       "    <tr>\n",
       "      <th>495</th>\n",
       "      <td>496</td>\n",
       "      <td>2/18/2018</td>\n",
       "      <td>P496</td>\n",
       "      <td>4</td>\n",
       "      <td>Court look town report mean.</td>\n",
       "    </tr>\n",
       "    <tr>\n",
       "      <th>496</th>\n",
       "      <td>497</td>\n",
       "      <td>5/5/2018</td>\n",
       "      <td>P497</td>\n",
       "      <td>3</td>\n",
       "      <td>Would position party story key.</td>\n",
       "    </tr>\n",
       "    <tr>\n",
       "      <th>497</th>\n",
       "      <td>498</td>\n",
       "      <td>6/24/2018</td>\n",
       "      <td>P498</td>\n",
       "      <td>4</td>\n",
       "      <td>And president sound key in force wish.</td>\n",
       "    </tr>\n",
       "    <tr>\n",
       "      <th>498</th>\n",
       "      <td>499</td>\n",
       "      <td>4/8/2018</td>\n",
       "      <td>P499</td>\n",
       "      <td>2</td>\n",
       "      <td>Where form fly.</td>\n",
       "    </tr>\n",
       "    <tr>\n",
       "      <th>499</th>\n",
       "      <td>500</td>\n",
       "      <td>2/15/2018</td>\n",
       "      <td>P500</td>\n",
       "      <td>4</td>\n",
       "      <td>Much power south name.</td>\n",
       "    </tr>\n",
       "  </tbody>\n",
       "</table>\n",
       "<p>500 rows × 5 columns</p>\n",
       "</div>"
      ],
      "text/plain": [
       "     Customer_ID Feedback_Date Product_ID  Rating  \\\n",
       "0              1     2/16/2018       P001       1   \n",
       "1              2     4/13/2018       P002       4   \n",
       "2              3      2/2/2018       P003       1   \n",
       "3              4      4/8/2018       P004       5   \n",
       "4              5     2/22/2018       P005       3   \n",
       "..           ...           ...        ...     ...   \n",
       "495          496     2/18/2018       P496       4   \n",
       "496          497      5/5/2018       P497       3   \n",
       "497          498     6/24/2018       P498       4   \n",
       "498          499      4/8/2018       P499       2   \n",
       "499          500     2/15/2018       P500       4   \n",
       "\n",
       "                                              Comments  \n",
       "0                     Like start nearly grow add film.  \n",
       "1    Whom still case door certain century mean abil...  \n",
       "2                     Follow new special beat address.  \n",
       "3     Development strong lose send certain say health.  \n",
       "4                        Seem response quickly budget.  \n",
       "..                                                 ...  \n",
       "495                       Court look town report mean.  \n",
       "496                    Would position party story key.  \n",
       "497             And president sound key in force wish.  \n",
       "498                                    Where form fly.  \n",
       "499                             Much power south name.  \n",
       "\n",
       "[500 rows x 5 columns]"
      ]
     },
     "execution_count": 4,
     "metadata": {},
     "output_type": "execute_result"
    }
   ],
   "source": [
    "df"
   ]
  },
  {
   "cell_type": "markdown",
   "id": "7f0091e7-0d6e-48a9-b0fd-c1af34124341",
   "metadata": {},
   "source": [
    "# Data Cleaning"
   ]
  },
  {
   "cell_type": "code",
   "execution_count": null,
   "id": "0b94529c-b121-4dbd-86af-b36415bd8470",
   "metadata": {},
   "outputs": [],
   "source": [
    "#Missing Values"
   ]
  },
  {
   "cell_type": "code",
   "execution_count": 6,
   "id": "2667bf4c-8bea-4aa4-8f69-1471e33b7ce2",
   "metadata": {},
   "outputs": [
    {
     "data": {
      "text/plain": [
       "Customer_ID      False\n",
       "Feedback_Date    False\n",
       "Product_ID       False\n",
       "Rating           False\n",
       "Comments         False\n",
       "dtype: bool"
      ]
     },
     "execution_count": 6,
     "metadata": {},
     "output_type": "execute_result"
    }
   ],
   "source": [
    "df.isnull().any() #There is no any missing values"
   ]
  },
  {
   "cell_type": "code",
   "execution_count": 73,
   "id": "24aefb00-e94f-4cbc-a1ca-80c62f494017",
   "metadata": {},
   "outputs": [],
   "source": [
    "#Data Types"
   ]
  },
  {
   "cell_type": "code",
   "execution_count": 7,
   "id": "5ae247d9-b726-427c-b146-dd955b15f406",
   "metadata": {},
   "outputs": [
    {
     "data": {
      "text/plain": [
       "Customer_ID       int64\n",
       "Feedback_Date    object\n",
       "Product_ID       object\n",
       "Rating            int64\n",
       "Comments         object\n",
       "dtype: object"
      ]
     },
     "execution_count": 7,
     "metadata": {},
     "output_type": "execute_result"
    }
   ],
   "source": [
    "df.dtypes"
   ]
  },
  {
   "cell_type": "code",
   "execution_count": 5,
   "id": "f76b4666-24a4-4652-95b5-a5fd78a06579",
   "metadata": {},
   "outputs": [],
   "source": [
    "df['Feedback_Date'] = pd.to_datetime(df['Feedback_Date'], errors='coerce') #Feedback_Date datatype convert into datetime\n",
    "df['Rating'] = pd.to_numeric(df['Rating'], errors='coerce') #Rating is already in int\n",
    "df['Comments'] = df['Comments'].astype(str) #Comments are already in str"
   ]
  },
  {
   "cell_type": "code",
   "execution_count": 6,
   "id": "70b585a7-c99d-4f0e-9466-fe5f21ea2cbd",
   "metadata": {},
   "outputs": [
    {
     "data": {
      "text/plain": [
       "Customer_ID               int64\n",
       "Feedback_Date    datetime64[ns]\n",
       "Product_ID               object\n",
       "Rating                    int64\n",
       "Comments                 object\n",
       "dtype: object"
      ]
     },
     "execution_count": 6,
     "metadata": {},
     "output_type": "execute_result"
    }
   ],
   "source": [
    "df.dtypes"
   ]
  },
  {
   "cell_type": "code",
   "execution_count": null,
   "id": "177a1583-fe55-431d-a4c1-8136faf49d13",
   "metadata": {},
   "outputs": [],
   "source": [
    "#Duplicates "
   ]
  },
  {
   "cell_type": "code",
   "execution_count": 37,
   "id": "4dea920f-9401-4e19-8f01-da1aaaccb4e7",
   "metadata": {},
   "outputs": [
    {
     "data": {
      "text/plain": [
       "0      False\n",
       "1      False\n",
       "2      False\n",
       "3      False\n",
       "4      False\n",
       "       ...  \n",
       "495    False\n",
       "496    False\n",
       "497    False\n",
       "498    False\n",
       "499    False\n",
       "Length: 500, dtype: bool"
      ]
     },
     "execution_count": 37,
     "metadata": {},
     "output_type": "execute_result"
    }
   ],
   "source": [
    "df.duplicated() #There is no any duplicates in this file"
   ]
  },
  {
   "cell_type": "code",
   "execution_count": null,
   "id": "e27ac7bd-63a8-47bd-8aca-0651d3ef1193",
   "metadata": {},
   "outputs": [],
   "source": [
    "#Text Processing"
   ]
  },
  {
   "cell_type": "code",
   "execution_count": 7,
   "id": "d41d98cc-5579-4e91-8271-f69cee242fd6",
   "metadata": {},
   "outputs": [
    {
     "data": {
      "text/html": [
       "<div>\n",
       "<style scoped>\n",
       "    .dataframe tbody tr th:only-of-type {\n",
       "        vertical-align: middle;\n",
       "    }\n",
       "\n",
       "    .dataframe tbody tr th {\n",
       "        vertical-align: top;\n",
       "    }\n",
       "\n",
       "    .dataframe thead th {\n",
       "        text-align: right;\n",
       "    }\n",
       "</style>\n",
       "<table border=\"1\" class=\"dataframe\">\n",
       "  <thead>\n",
       "    <tr style=\"text-align: right;\">\n",
       "      <th></th>\n",
       "      <th>Customer_ID</th>\n",
       "      <th>Feedback_Date</th>\n",
       "      <th>Product_ID</th>\n",
       "      <th>Rating</th>\n",
       "      <th>Comments</th>\n",
       "      <th>Cleaned_Comments</th>\n",
       "    </tr>\n",
       "  </thead>\n",
       "  <tbody>\n",
       "    <tr>\n",
       "      <th>0</th>\n",
       "      <td>1</td>\n",
       "      <td>2018-02-16</td>\n",
       "      <td>P001</td>\n",
       "      <td>1</td>\n",
       "      <td>Like start nearly grow add film.</td>\n",
       "      <td>[like, start, nearly, grow, add, film]</td>\n",
       "    </tr>\n",
       "    <tr>\n",
       "      <th>1</th>\n",
       "      <td>2</td>\n",
       "      <td>2018-04-13</td>\n",
       "      <td>P002</td>\n",
       "      <td>4</td>\n",
       "      <td>Whom still case door certain century mean abil...</td>\n",
       "      <td>[whom, still, case, door, certain, century, me...</td>\n",
       "    </tr>\n",
       "    <tr>\n",
       "      <th>2</th>\n",
       "      <td>3</td>\n",
       "      <td>2018-02-02</td>\n",
       "      <td>P003</td>\n",
       "      <td>1</td>\n",
       "      <td>Follow new special beat address.</td>\n",
       "      <td>[follow, new, special, beat, address]</td>\n",
       "    </tr>\n",
       "    <tr>\n",
       "      <th>3</th>\n",
       "      <td>4</td>\n",
       "      <td>2018-04-08</td>\n",
       "      <td>P004</td>\n",
       "      <td>5</td>\n",
       "      <td>Development strong lose send certain say health.</td>\n",
       "      <td>[development, strong, lose, send, certain, say...</td>\n",
       "    </tr>\n",
       "    <tr>\n",
       "      <th>4</th>\n",
       "      <td>5</td>\n",
       "      <td>2018-02-22</td>\n",
       "      <td>P005</td>\n",
       "      <td>3</td>\n",
       "      <td>Seem response quickly budget.</td>\n",
       "      <td>[seem, response, quickly, budget]</td>\n",
       "    </tr>\n",
       "    <tr>\n",
       "      <th>...</th>\n",
       "      <td>...</td>\n",
       "      <td>...</td>\n",
       "      <td>...</td>\n",
       "      <td>...</td>\n",
       "      <td>...</td>\n",
       "      <td>...</td>\n",
       "    </tr>\n",
       "    <tr>\n",
       "      <th>495</th>\n",
       "      <td>496</td>\n",
       "      <td>2018-02-18</td>\n",
       "      <td>P496</td>\n",
       "      <td>4</td>\n",
       "      <td>Court look town report mean.</td>\n",
       "      <td>[court, look, town, report, mean]</td>\n",
       "    </tr>\n",
       "    <tr>\n",
       "      <th>496</th>\n",
       "      <td>497</td>\n",
       "      <td>2018-05-05</td>\n",
       "      <td>P497</td>\n",
       "      <td>3</td>\n",
       "      <td>Would position party story key.</td>\n",
       "      <td>[would, position, party, story, key]</td>\n",
       "    </tr>\n",
       "    <tr>\n",
       "      <th>497</th>\n",
       "      <td>498</td>\n",
       "      <td>2018-06-24</td>\n",
       "      <td>P498</td>\n",
       "      <td>4</td>\n",
       "      <td>And president sound key in force wish.</td>\n",
       "      <td>[and, president, sound, key, in, force, wish]</td>\n",
       "    </tr>\n",
       "    <tr>\n",
       "      <th>498</th>\n",
       "      <td>499</td>\n",
       "      <td>2018-04-08</td>\n",
       "      <td>P499</td>\n",
       "      <td>2</td>\n",
       "      <td>Where form fly.</td>\n",
       "      <td>[where, form, fly]</td>\n",
       "    </tr>\n",
       "    <tr>\n",
       "      <th>499</th>\n",
       "      <td>500</td>\n",
       "      <td>2018-02-15</td>\n",
       "      <td>P500</td>\n",
       "      <td>4</td>\n",
       "      <td>Much power south name.</td>\n",
       "      <td>[much, power, south, name]</td>\n",
       "    </tr>\n",
       "  </tbody>\n",
       "</table>\n",
       "<p>500 rows × 6 columns</p>\n",
       "</div>"
      ],
      "text/plain": [
       "     Customer_ID Feedback_Date Product_ID  Rating  \\\n",
       "0              1    2018-02-16       P001       1   \n",
       "1              2    2018-04-13       P002       4   \n",
       "2              3    2018-02-02       P003       1   \n",
       "3              4    2018-04-08       P004       5   \n",
       "4              5    2018-02-22       P005       3   \n",
       "..           ...           ...        ...     ...   \n",
       "495          496    2018-02-18       P496       4   \n",
       "496          497    2018-05-05       P497       3   \n",
       "497          498    2018-06-24       P498       4   \n",
       "498          499    2018-04-08       P499       2   \n",
       "499          500    2018-02-15       P500       4   \n",
       "\n",
       "                                              Comments  \\\n",
       "0                     Like start nearly grow add film.   \n",
       "1    Whom still case door certain century mean abil...   \n",
       "2                     Follow new special beat address.   \n",
       "3     Development strong lose send certain say health.   \n",
       "4                        Seem response quickly budget.   \n",
       "..                                                 ...   \n",
       "495                       Court look town report mean.   \n",
       "496                    Would position party story key.   \n",
       "497             And president sound key in force wish.   \n",
       "498                                    Where form fly.   \n",
       "499                             Much power south name.   \n",
       "\n",
       "                                      Cleaned_Comments  \n",
       "0               [like, start, nearly, grow, add, film]  \n",
       "1    [whom, still, case, door, certain, century, me...  \n",
       "2                [follow, new, special, beat, address]  \n",
       "3    [development, strong, lose, send, certain, say...  \n",
       "4                    [seem, response, quickly, budget]  \n",
       "..                                                 ...  \n",
       "495                  [court, look, town, report, mean]  \n",
       "496               [would, position, party, story, key]  \n",
       "497      [and, president, sound, key, in, force, wish]  \n",
       "498                                 [where, form, fly]  \n",
       "499                         [much, power, south, name]  \n",
       "\n",
       "[500 rows x 6 columns]"
      ]
     },
     "execution_count": 7,
     "metadata": {},
     "output_type": "execute_result"
    }
   ],
   "source": [
    "# Function to clean and tokenize the text\n",
    "def Text_Processing(text):\n",
    "    # Remove extra whitespace\n",
    "    text = \" \".join(text.split()) #There is no extra whitespace in the comments\n",
    "    text = text.lower() # Convert text to lowercase\n",
    "    text = text.translate(str.maketrans(\"\", \"\", string.punctuation)) #Remove punctuation\n",
    "    tokens = text.split() #Tokenize the comments\n",
    "    return tokens\n",
    "\n",
    "#Cleaned_Comments after Text Processing\n",
    "df['Cleaned_Comments'] = df['Comments'].apply(lambda x: Text_Processing(x))\n",
    "df"
   ]
  },
  {
   "cell_type": "markdown",
   "id": "b0454fe7-9e3e-4595-803f-14fb91e10256",
   "metadata": {},
   "source": [
    "# Exploratory Data Analysis"
   ]
  },
  {
   "cell_type": "code",
   "execution_count": 8,
   "id": "029cc0e1-f1a2-4627-8fa7-dd407f47ed7d",
   "metadata": {},
   "outputs": [
    {
     "data": {
      "image/png": "[encoded data removed]",
      "text/plain": [
       "<Figure size 640x480 with 1 Axes>"
      ]
     },
     "metadata": {},
     "output_type": "display_data"
    },
    {
     "name": "stdout",
     "output_type": "stream",
     "text": [
      "Average Rating: 2.99\n"
     ]
    }
   ],
   "source": [
    "# Plot the distribution of ratings (Histogram)\n",
    "plt.hist(df['Rating'], bins=10, edgecolor=\"red\")\n",
    "plt.title(\"Ratings Distribution\")\n",
    "plt.xlabel(\"Rating\")\n",
    "plt.ylabel(\"Frequency\")\n",
    "plt.show()\n",
    "\n",
    "# Calculate the average rating\n",
    "average_rating = df['Rating'].mean()\n",
    "print(f\"Average Rating: {average_rating:.2f}\")"
   ]
  },
  {
   "cell_type": "code",
   "execution_count": 9,
   "id": "f03835e1-5406-4beb-be19-66c384efebf0",
   "metadata": {},
   "outputs": [
    {
     "name": "stdout",
     "output_type": "stream",
     "text": [
      "0                 [like, start, nearly, grow, add, film]\n",
      "1      [whom, still, case, door, certain, century, me...\n",
      "2                  [follow, new, special, beat, address]\n",
      "3      [development, strong, lose, send, certain, say...\n",
      "4                      [seem, response, quickly, budget]\n",
      "                             ...                        \n",
      "495                    [court, look, town, report, mean]\n",
      "496                 [would, position, party, story, key]\n",
      "497        [and, president, sound, key, in, force, wish]\n",
      "498                                   [where, form, fly]\n",
      "499                           [much, power, south, name]\n",
      "Name: Cleaned_Comments, Length: 500, dtype: object\n",
      "Most Frequent Word: camera\n"
     ]
    }
   ],
   "source": [
    "new_column_data = df['Cleaned_Comments']\n",
    "print(new_column_data)\n",
    "count = 0\n",
    "words = []\n",
    "max_count = 0\n",
    "#Logic to check the most frequently occurring words in the Comments column\n",
    "for line in new_column_data:\n",
    "    for text in line:\n",
    "        words.append(text)\n",
    "for i in range(0,len(words)):\n",
    "    count=1\n",
    "    for j in range(i+1,len(words)):\n",
    "        if(words[i]==words[j]):\n",
    "            count = count+1\n",
    "    if(count>max_count):\n",
    "        max_count = count\n",
    "        word = words[i]\n",
    "print(\"Most Frequent Word: \"+word)\n"
   ]
  },
  {
   "cell_type": "code",
   "execution_count": 1,
   "id": "1b7f6c90-5ba3-40a4-b1ed-aeb25d23e6a8",
   "metadata": {},
   "outputs": [],
   "source": [
    "#Trend Analysis"
   ]
  },
  {
   "cell_type": "code",
   "execution_count": 10,
   "id": "4b9238fe-d499-4f5d-a0d4-1e788372fe3a",
   "metadata": {},
   "outputs": [
    {
     "data": {
      "text/plain": [
       "Feedback_Date\n",
       "2018-12-31    2.987903\n",
       "Name: Rating, dtype: float64"
      ]
     },
     "execution_count": 10,
     "metadata": {},
     "output_type": "execute_result"
    }
   ],
   "source": [
    "df.set_index('Feedback_Date', inplace=True)\n",
    "\n",
    "# Resample the data by month and calculate the average rating\n",
    "monthly_avg_rating = df['Rating'].resample('ME').mean()\n",
    "\n",
    "# Resample the data by year and calculate the average rating\n",
    "yearly_avg_rating = df['Rating'].resample('YE').mean()\n",
    "\n",
    "# Display the first few rows of the resampled data (optional)\n",
    "monthly_avg_rating\n",
    "yearly_avg_rating"
   ]
  },
  {
   "cell_type": "code",
   "execution_count": 11,
   "id": "509e172d-39a0-4e3c-8c25-4cac4aa6bcf6",
   "metadata": {},
   "outputs": [
    {
     "data": {
      "image/png": "[encoded data removed]",
      "text/plain": [
       "<Figure size 1000x500 with 1 Axes>"
      ]
     },
     "metadata": {},
     "output_type": "display_data"
    }
   ],
   "source": [
    "plt.figure(figsize=(10, 5))  # Set the size of the plot\n",
    "plt.plot(monthly_avg_rating, marker='o', linestyle='-', color='blue', label='Monthly Avg Rating')\n",
    "plt.title('Monthly Average Rating Over Time')  # Add a title to the plot\n",
    "plt.xlabel('Date')  # Label for the x-axis\n",
    "plt.ylabel('Average Rating')  # Label for the y-axis\n",
    "plt.legend()  # Add a legend to identify the line\n",
    "plt.grid(True)  # Add grid lines to the plot\n",
    "plt.show()  # Display the plot"
   ]
  },
  {
   "cell_type": "code",
   "execution_count": 12,
   "id": "8f886860-8d85-42dd-9b93-915f44da3588",
   "metadata": {},
   "outputs": [
    {
     "data": {
      "image/png": "[encoded data removed]",
      "text/plain": [
       "<Figure size 1000x500 with 1 Axes>"
      ]
     },
     "metadata": {},
     "output_type": "display_data"
    }
   ],
   "source": [
    "plt.figure(figsize=(10, 5))  # Set the size of the plot\n",
    "plt.plot(yearly_avg_rating, marker='o', linestyle='-', color='green', label='Yearly Avg Rating')\n",
    "plt.title('Yearly Average Rating Over Time')  # Add a title to the plot\n",
    "plt.xlabel('Date')  # Label for the x-axis\n",
    "plt.ylabel('Average Rating')  # Label for the y-axis\n",
    "plt.legend()  # Add a legend to identify the line\n",
    "plt.grid(True)  # Add grid lines to the plot\n",
    "plt.show()  # Display the plot"
   ]
  },
  {
   "cell_type": "code",
   "execution_count": 14,
   "id": "c388cece-8211-4d4c-a0c7-85b50354d9f1",
   "metadata": {},
   "outputs": [
    {
     "data": {
      "text/html": [
       "<div>\n",
       "<style scoped>\n",
       "    .dataframe tbody tr th:only-of-type {\n",
       "        vertical-align: middle;\n",
       "    }\n",
       "\n",
       "    .dataframe tbody tr th {\n",
       "        vertical-align: top;\n",
       "    }\n",
       "\n",
       "    .dataframe thead th {\n",
       "        text-align: right;\n",
       "    }\n",
       "</style>\n",
       "<table border=\"1\" class=\"dataframe\">\n",
       "  <thead>\n",
       "    <tr style=\"text-align: right;\">\n",
       "      <th></th>\n",
       "      <th>Customer_ID</th>\n",
       "      <th>Product_ID</th>\n",
       "      <th>Rating</th>\n",
       "      <th>Comments</th>\n",
       "      <th>Cleaned_Comments</th>\n",
       "    </tr>\n",
       "    <tr>\n",
       "      <th>Feedback_Date</th>\n",
       "      <th></th>\n",
       "      <th></th>\n",
       "      <th></th>\n",
       "      <th></th>\n",
       "      <th></th>\n",
       "    </tr>\n",
       "  </thead>\n",
       "  <tbody>\n",
       "    <tr>\n",
       "      <th>2018-02-16</th>\n",
       "      <td>1</td>\n",
       "      <td>P001</td>\n",
       "      <td>1</td>\n",
       "      <td>Like start nearly grow add film.</td>\n",
       "      <td>[like, start, nearly, grow, add, film]</td>\n",
       "    </tr>\n",
       "    <tr>\n",
       "      <th>2018-04-13</th>\n",
       "      <td>2</td>\n",
       "      <td>P002</td>\n",
       "      <td>4</td>\n",
       "      <td>Whom still case door certain century mean abil...</td>\n",
       "      <td>[whom, still, case, door, certain, century, me...</td>\n",
       "    </tr>\n",
       "    <tr>\n",
       "      <th>2018-02-02</th>\n",
       "      <td>3</td>\n",
       "      <td>P003</td>\n",
       "      <td>1</td>\n",
       "      <td>Follow new special beat address.</td>\n",
       "      <td>[follow, new, special, beat, address]</td>\n",
       "    </tr>\n",
       "    <tr>\n",
       "      <th>2018-04-08</th>\n",
       "      <td>4</td>\n",
       "      <td>P004</td>\n",
       "      <td>5</td>\n",
       "      <td>Development strong lose send certain say health.</td>\n",
       "      <td>[development, strong, lose, send, certain, say...</td>\n",
       "    </tr>\n",
       "    <tr>\n",
       "      <th>2018-02-22</th>\n",
       "      <td>5</td>\n",
       "      <td>P005</td>\n",
       "      <td>3</td>\n",
       "      <td>Seem response quickly budget.</td>\n",
       "      <td>[seem, response, quickly, budget]</td>\n",
       "    </tr>\n",
       "    <tr>\n",
       "      <th>...</th>\n",
       "      <td>...</td>\n",
       "      <td>...</td>\n",
       "      <td>...</td>\n",
       "      <td>...</td>\n",
       "      <td>...</td>\n",
       "    </tr>\n",
       "    <tr>\n",
       "      <th>2018-02-18</th>\n",
       "      <td>496</td>\n",
       "      <td>P496</td>\n",
       "      <td>4</td>\n",
       "      <td>Court look town report mean.</td>\n",
       "      <td>[court, look, town, report, mean]</td>\n",
       "    </tr>\n",
       "    <tr>\n",
       "      <th>2018-05-05</th>\n",
       "      <td>497</td>\n",
       "      <td>P497</td>\n",
       "      <td>3</td>\n",
       "      <td>Would position party story key.</td>\n",
       "      <td>[would, position, party, story, key]</td>\n",
       "    </tr>\n",
       "    <tr>\n",
       "      <th>2018-06-24</th>\n",
       "      <td>498</td>\n",
       "      <td>P498</td>\n",
       "      <td>4</td>\n",
       "      <td>And president sound key in force wish.</td>\n",
       "      <td>[and, president, sound, key, in, force, wish]</td>\n",
       "    </tr>\n",
       "    <tr>\n",
       "      <th>2018-04-08</th>\n",
       "      <td>499</td>\n",
       "      <td>P499</td>\n",
       "      <td>2</td>\n",
       "      <td>Where form fly.</td>\n",
       "      <td>[where, form, fly]</td>\n",
       "    </tr>\n",
       "    <tr>\n",
       "      <th>2018-02-15</th>\n",
       "      <td>500</td>\n",
       "      <td>P500</td>\n",
       "      <td>4</td>\n",
       "      <td>Much power south name.</td>\n",
       "      <td>[much, power, south, name]</td>\n",
       "    </tr>\n",
       "  </tbody>\n",
       "</table>\n",
       "<p>500 rows × 5 columns</p>\n",
       "</div>"
      ],
      "text/plain": [
       "               Customer_ID Product_ID  Rating  \\\n",
       "Feedback_Date                                   \n",
       "2018-02-16               1       P001       1   \n",
       "2018-04-13               2       P002       4   \n",
       "2018-02-02               3       P003       1   \n",
       "2018-04-08               4       P004       5   \n",
       "2018-02-22               5       P005       3   \n",
       "...                    ...        ...     ...   \n",
       "2018-02-18             496       P496       4   \n",
       "2018-05-05             497       P497       3   \n",
       "2018-06-24             498       P498       4   \n",
       "2018-04-08             499       P499       2   \n",
       "2018-02-15             500       P500       4   \n",
       "\n",
       "                                                        Comments  \\\n",
       "Feedback_Date                                                      \n",
       "2018-02-16                      Like start nearly grow add film.   \n",
       "2018-04-13     Whom still case door certain century mean abil...   \n",
       "2018-02-02                      Follow new special beat address.   \n",
       "2018-04-08      Development strong lose send certain say health.   \n",
       "2018-02-22                         Seem response quickly budget.   \n",
       "...                                                          ...   \n",
       "2018-02-18                          Court look town report mean.   \n",
       "2018-05-05                       Would position party story key.   \n",
       "2018-06-24                And president sound key in force wish.   \n",
       "2018-04-08                                       Where form fly.   \n",
       "2018-02-15                                Much power south name.   \n",
       "\n",
       "                                                Cleaned_Comments  \n",
       "Feedback_Date                                                     \n",
       "2018-02-16                [like, start, nearly, grow, add, film]  \n",
       "2018-04-13     [whom, still, case, door, certain, century, me...  \n",
       "2018-02-02                 [follow, new, special, beat, address]  \n",
       "2018-04-08     [development, strong, lose, send, certain, say...  \n",
       "2018-02-22                     [seem, response, quickly, budget]  \n",
       "...                                                          ...  \n",
       "2018-02-18                     [court, look, town, report, mean]  \n",
       "2018-05-05                  [would, position, party, story, key]  \n",
       "2018-06-24         [and, president, sound, key, in, force, wish]  \n",
       "2018-04-08                                    [where, form, fly]  \n",
       "2018-02-15                            [much, power, south, name]  \n",
       "\n",
       "[500 rows x 5 columns]"
      ]
     },
     "execution_count": 14,
     "metadata": {},
     "output_type": "execute_result"
    }
   ],
   "source": [
    "df.to_csv(r'C:\\Users\\maari\\OneDrive\\Desktop\\Data Cleaning and Exploration\\Cleaned_Dataset.csv')\n",
    "df"
   ]
  }
 ],
 "metadata": {
  "kernelspec": {
   "display_name": "Python 3 (ipykernel)",
   "language": "python",
   "name": "python3"
  },
  "language_info": {
   "codemirror_mode": {
    "name": "ipython",
    "version": 3
   },
   "file_extension": ".py",
   "mimetype": "text/x-python",
   "name": "python",
   "nbconvert_exporter": "python",
   "pygments_lexer": "ipython3",
   "version": "3.11.5"
  }
 },
 "nbformat": 4,
 "nbformat_minor": 5
}
